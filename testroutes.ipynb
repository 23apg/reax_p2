{
 "cells": [
  {
   "cell_type": "code",
   "execution_count": 1,
   "metadata": {},
   "outputs": [
    {
     "name": "stderr",
     "output_type": "stream",
     "text": [
      "C:\\Users\\APG\\Anaconda3\\envs\\AngelosAwesomeEnvironment\\lib\\importlib\\_bootstrap.py:219: RuntimeWarning: numpy.dtype size changed, may indicate binary incompatibility. Expected 96, got 88\n",
      "  return f(*args, **kwds)\n",
      "C:\\Users\\APG\\Anaconda3\\envs\\AngelosAwesomeEnvironment\\lib\\importlib\\_bootstrap.py:219: RuntimeWarning: numpy.ufunc size changed, may indicate binary incompatibility. Expected 192, got 176\n",
      "  return f(*args, **kwds)\n",
      "C:\\Users\\APG\\Anaconda3\\envs\\AngelosAwesomeEnvironment\\lib\\importlib\\_bootstrap.py:219: RuntimeWarning: numpy.dtype size changed, may indicate binary incompatibility. Expected 96, got 88\n",
      "  return f(*args, **kwds)\n",
      "C:\\Users\\APG\\Anaconda3\\envs\\AngelosAwesomeEnvironment\\lib\\importlib\\_bootstrap.py:219: RuntimeWarning: numpy.ufunc size changed, may indicate binary incompatibility. Expected 192, got 176\n",
      "  return f(*args, **kwds)\n"
     ]
    }
   ],
   "source": [
    "import praw\n",
    "import pandas as pd\n",
    "import datetime as dt\n",
    "from textblob import TextBlob\n",
    "from vaderSentiment.vaderSentiment import SentimentIntensityAnalyzer\n",
    "from time import sleep\n",
    "import pymongo\n",
    "import numpy as np\n",
    "import spacy\n",
    "import tweepy\n",
    "import nltk\n",
    "from nltk.tokenize import word_tokenize, RegexpTokenizer\n",
    "from nltk.corpus import stopwords\n",
    "from pprint import pprint\n",
    "\n",
    "nlp = spacy.load('en')"
   ]
  },
  {
   "cell_type": "code",
   "execution_count": 2,
   "metadata": {},
   "outputs": [],
   "source": [
    "conn = 'mongodb://localhost:27017'\n",
    "client = pymongo.MongoClient(conn)\n",
    "\n",
    "db = client.project_reax"
   ]
  },
  {
   "cell_type": "code",
   "execution_count": null,
   "metadata": {},
   "outputs": [],
   "source": [
    "docs = db.state_simple"
   ]
  },
  {
   "cell_type": "code",
   "execution_count": 24,
   "metadata": {},
   "outputs": [],
   "source": [
    "docs = db.state_simple.find({'location': 'Alabama'})"
   ]
  },
  {
   "cell_type": "code",
   "execution_count": 25,
   "metadata": {},
   "outputs": [],
   "source": [
    "dword = []\n",
    "for d in docs:\n",
    "    cou = d['wordcloud']\n",
    "    for c in cou:\n",
    "        dword.append(dict(key = c[0],\n",
    "                             value = c[1]))"
   ]
  },
  {
   "cell_type": "code",
   "execution_count": 26,
   "metadata": {},
   "outputs": [
    {
     "data": {
      "text/plain": [
       "[{'key': 'alabama', 'value': 40},\n",
       " {'key': 'shooting', 'value': 6},\n",
       " {'key': 'time', 'value': 5},\n",
       " {'key': 'man', 'value': 5},\n",
       " {'key': 'auburn', 'value': 5},\n",
       " {'key': 'anyone', 'value': 5},\n",
       " {'key': '2', 'value': 4},\n",
       " {'key': 'former', 'value': 4},\n",
       " {'key': 'state', 'value': 4},\n",
       " {'key': 'killed', 'value': 4},\n",
       " {'key': 'us', 'value': 3},\n",
       " {'key': 'polls', 'value': 3},\n",
       " {'key': 'vote', 'value': 3},\n",
       " {'key': 'know', 'value': 3},\n",
       " {'key': 'amendment', 'value': 3},\n",
       " {'key': 'voting', 'value': 3},\n",
       " {'key': 'mobile', 'value': 3},\n",
       " {'key': 'galleria', 'value': 3},\n",
       " {'key': 'likely', 'value': 3},\n",
       " {'key': 'post', 'value': 3},\n",
       " {'key': 'al', 'value': 3},\n",
       " {'key': 'r', 'value': 3},\n",
       " {'key': '2018', 'value': 3},\n",
       " {'key': 'montgomery', 'value': 3},\n",
       " {'key': 'close', 'value': 3},\n",
       " {'key': 'sessions', 'value': 3},\n",
       " {'key': 'crosspost', 'value': 3},\n",
       " {'key': '10', 'value': 2},\n",
       " {'key': 'years', 'value': 2},\n",
       " {'key': '7am', 'value': 2},\n",
       " {'key': 'alabama', 'value': 39},\n",
       " {'key': 'shooting', 'value': 7},\n",
       " {'key': 'man', 'value': 5},\n",
       " {'key': 'auburn', 'value': 5},\n",
       " {'key': 'anyone', 'value': 5},\n",
       " {'key': 'time', 'value': 4},\n",
       " {'key': '2', 'value': 4},\n",
       " {'key': 'former', 'value': 4},\n",
       " {'key': 'mobile', 'value': 4},\n",
       " {'key': 'state', 'value': 4},\n",
       " {'key': '10', 'value': 3},\n",
       " {'key': 'us', 'value': 3},\n",
       " {'key': 'polls', 'value': 3},\n",
       " {'key': 'vote', 'value': 3},\n",
       " {'key': 'amendment', 'value': 3},\n",
       " {'key': 'county', 'value': 3},\n",
       " {'key': 'voting', 'value': 3},\n",
       " {'key': 'killed', 'value': 3},\n",
       " {'key': 'galleria', 'value': 3},\n",
       " {'key': 'likely', 'value': 3},\n",
       " {'key': 'post', 'value': 3},\n",
       " {'key': 'new', 'value': 3},\n",
       " {'key': 'r', 'value': 3},\n",
       " {'key': 'trump', 'value': 3},\n",
       " {'key': '2018', 'value': 3},\n",
       " {'key': 'hoover', 'value': 3},\n",
       " {'key': 'montgomery', 'value': 3},\n",
       " {'key': 'close', 'value': 3},\n",
       " {'key': 'sessions', 'value': 3},\n",
       " {'key': 'crosspost', 'value': 3}]"
      ]
     },
     "execution_count": 26,
     "metadata": {},
     "output_type": "execute_result"
    }
   ],
   "source": [
    "dword"
   ]
  },
  {
   "cell_type": "code",
   "execution_count": null,
   "metadata": {},
   "outputs": [],
   "source": []
  }
 ],
 "metadata": {
  "kernelspec": {
   "display_name": "Python 3",
   "language": "python",
   "name": "python3"
  },
  "language_info": {
   "codemirror_mode": {
    "name": "ipython",
    "version": 3
   },
   "file_extension": ".py",
   "mimetype": "text/x-python",
   "name": "python",
   "nbconvert_exporter": "python",
   "pygments_lexer": "ipython3",
   "version": "3.6.6"
  }
 },
 "nbformat": 4,
 "nbformat_minor": 2
}
