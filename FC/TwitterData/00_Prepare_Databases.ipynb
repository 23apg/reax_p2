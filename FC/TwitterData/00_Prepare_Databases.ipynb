{
 "cells": [
  {
   "cell_type": "code",
   "execution_count": 1,
   "metadata": {},
   "outputs": [],
   "source": [
    "# Dependencies\n",
    "from city_woeids import city_woeids\n",
    "from cities import cities\n",
    "from pprint import pprint\n",
    "import pymongo\n",
    "import json\n",
    "import numpy as np\n",
    "\n",
    "#connection with Mongo\n",
    "conn = 'mongodb://localhost:27017'\n",
    "client = pymongo.MongoClient(conn)\n",
    "db = client.project_reax"
   ]
  },
  {
   "cell_type": "code",
   "execution_count": 11,
   "metadata": {},
   "outputs": [],
   "source": [
    "# Define database and collection\n",
    "db_city_woeids = db.city_woeids\n",
    "db_cities = db.cities\n",
    "db_cities_full = db.cities_full"
   ]
  },
  {
   "cell_type": "code",
   "execution_count": 9,
   "metadata": {},
   "outputs": [
    {
     "data": {
      "text/plain": [
       "<pymongo.results.InsertManyResult at 0x110005288>"
      ]
     },
     "execution_count": 9,
     "metadata": {},
     "output_type": "execute_result"
    }
   ],
   "source": [
    "db_city_woeids.insert_many(city_woeids)"
   ]
  },
  {
   "cell_type": "code",
   "execution_count": 10,
   "metadata": {},
   "outputs": [
    {
     "data": {
      "text/plain": [
       "<pymongo.results.InsertManyResult at 0x11060e048>"
      ]
     },
     "execution_count": 10,
     "metadata": {},
     "output_type": "execute_result"
    }
   ],
   "source": [
    "db_cities.insert_many(cities)"
   ]
  },
  {
   "cell_type": "code",
   "execution_count": 15,
   "metadata": {},
   "outputs": [],
   "source": [
    "pipeline = [\n",
    "     {\"$lookup\": {\"from\": \"city_woeids\", \"localField\": \"city\", \"foreignField\": \"City\", \"as\": \"woeids\"}}]\n",
    "     \n",
    "db_cities_full.insert_many(db.cities.aggregate(pipeline))"
   ]
  },
  {
   "cell_type": "code",
   "execution_count": 19,
   "metadata": {},
   "outputs": [],
   "source": [
    "results = db_cities_full.find()\n",
    "for result in results:\n",
    "    try:\n",
    "        city_full_lite = {\n",
    "            \"city\": result[\"city\"],\n",
    "            \"state\": result[\"state\"],\n",
    "            \"latitude\": result[\"latitude\"],\n",
    "            \"longitude\": result[\"longitude\"],\n",
    "            \"Id\": result[\"woeids\"][0][\"Id\"]\n",
    "        }\n",
    "        db.city_full_lite.insert_one(city_full_lite)\n",
    "    except:\n",
    "        pass"
   ]
  },
  {
   "cell_type": "code",
   "execution_count": null,
   "metadata": {},
   "outputs": [],
   "source": []
  }
 ],
 "metadata": {
  "kernelspec": {
   "display_name": "Python 3",
   "language": "python",
   "name": "python3"
  },
  "language_info": {
   "codemirror_mode": {
    "name": "ipython",
    "version": 3
   },
   "file_extension": ".py",
   "mimetype": "text/x-python",
   "name": "python",
   "nbconvert_exporter": "python",
   "pygments_lexer": "ipython3",
   "version": "3.6.5"
  },
  "nteract": {
   "version": "0.8.4"
  }
 },
 "nbformat": 4,
 "nbformat_minor": 2
}
